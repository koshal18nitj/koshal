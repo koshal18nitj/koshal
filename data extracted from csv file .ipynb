{
 "cells": [
  {
   "cell_type": "code",
   "execution_count": 111,
   "id": "17f582c8",
   "metadata": {},
   "outputs": [],
   "source": [
    "import pandas as pd\n",
    " \n",
    "import numpy as np\n"
   ]
  },
  {
   "cell_type": "code",
   "execution_count": 112,
   "id": "e2d2c663",
   "metadata": {
    "scrolled": true
   },
   "outputs": [
    {
     "name": "stdout",
     "output_type": "stream",
     "text": [
      "   Unnamed: 0                  Player       Span  Mat Inns  NO  Runs\n",
      "2           2         MJ Guptill (NZ)  2009-2019   83   80   7  2436\n",
      "3           3  Shoaib Malik (ICC/PAK)  2006-2019  111  104  30  2263\n",
      "4           4        BB McCullum (NZ)  2005-2015   71   70  10  2140\n",
      "5           5         DA Warner (AUS)  2009-2019   76   76   8  2079\n",
      "<class 'pandas.core.frame.DataFrame'>\n",
      "[[83 '80' '7' '2436']] [[111 '104' '30' '2263']]\n"
     ]
    }
   ],
   "source": [
    "df=pd.read_csv('t20.csv')\n",
    "## print(df)\n",
    "dd=df.iloc[2:6,:7]\n",
    "print(dd)\n",
    "dd.corr()\n",
    "print(type(dd.iloc[1:1,4:4]))\n",
    "dg=pd.DataFrame(dd)\n",
    "ff=dg.iloc[0:1,3:7]\n",
    "ff1=dg.iloc[1:2,3:7]\n",
    "\n",
    "arr1=ff.to_numpy()\n",
    "arr2=ff1.to_numpy()\n",
    "\n",
    "print(arr1,arr2)"
   ]
  }
 ],
 "metadata": {
  "kernelspec": {
   "display_name": "Python 3",
   "language": "python",
   "name": "python3"
  },
  "language_info": {
   "codemirror_mode": {
    "name": "ipython",
    "version": 3
   },
   "file_extension": ".py",
   "mimetype": "text/x-python",
   "name": "python",
   "nbconvert_exporter": "python",
   "pygments_lexer": "ipython3",
   "version": "3.8.8"
  }
 },
 "nbformat": 4,
 "nbformat_minor": 5
}
